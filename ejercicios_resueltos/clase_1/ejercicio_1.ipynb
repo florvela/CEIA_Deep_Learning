{
 "cells": [
  {
   "cell_type": "markdown",
   "id": "da693e95",
   "metadata": {},
   "source": [
    "# XOR with NNet in python"
   ]
  },
  {
   "cell_type": "code",
   "execution_count": 1,
   "id": "6df1216f",
   "metadata": {},
   "outputs": [],
   "source": [
    "import numpy as np\n",
    "import matplotlib.pyplot as plt\n",
    "import sys \n",
    "sys.path.append('..')\n",
    "from utils.XOR import XOR"
   ]
  },
  {
   "cell_type": "code",
   "execution_count": 2,
   "id": "1e93e8e6",
   "metadata": {},
   "outputs": [],
   "source": [
    "# XOR dataset\n",
    "X = np.array([[0, 0], [0, 1], [1, 0], [1, 1]])\n",
    "y = np.array([[0], [1], [1], [0]])"
   ]
  },
  {
   "cell_type": "markdown",
   "id": "e3185765",
   "metadata": {},
   "source": [
    "| X1 | X2 | y = X1 XOR X2 |\n",
    "| -- | -- | -- |\n",
    "| 0 | 0 | 0 |\n",
    "| 0 | 1 | 1 |\n",
    "| 1 | 0 | 1 |\n",
    "| 1 | 1 | 0 |"
   ]
  },
  {
   "cell_type": "code",
   "execution_count": 3,
   "id": "64840f79",
   "metadata": {},
   "outputs": [],
   "source": [
    "xor_obj = XOR(n_epochs=5000, lr=0.1)\n",
    "xor_obj.train(X, y)"
   ]
  },
  {
   "cell_type": "markdown",
   "id": "6b99b5be",
   "metadata": {},
   "source": [
    "## Tests"
   ]
  },
  {
   "cell_type": "code",
   "execution_count": 4,
   "id": "51cf9f91",
   "metadata": {},
   "outputs": [],
   "source": [
    "assert xor_obj.predict([1, 0]) == 1\n",
    "assert xor_obj.predict([0, 0]) == 0\n",
    "assert xor_obj.predict([0, 1]) == 1\n",
    "assert xor_obj.predict([1, 1]) == 0"
   ]
  },
  {
   "cell_type": "markdown",
   "id": "2d2641ee",
   "metadata": {},
   "source": [
    "## MSE graph"
   ]
  },
  {
   "cell_type": "code",
   "execution_count": 5,
   "id": "d49933fc",
   "metadata": {},
   "outputs": [
    {
     "data": {
      "image/png": "[encoded data removed]",
      "text/plain": [
       "<Figure size 432x288 with 1 Axes>"
      ]
     },
     "metadata": {
      "needs_background": "light"
     },
     "output_type": "display_data"
    }
   ],
   "source": [
    "plt.plot(xor_obj.MSE)\n",
    "plt.xlabel(\"Epochs\")\n",
    "plt.ylabel(\"MSE\")\n",
    "plt.show()"
   ]
  },
  {
   "cell_type": "code",
   "execution_count": null,
   "id": "64170908",
   "metadata": {},
   "outputs": [],
   "source": []
  }
 ],
 "metadata": {
  "kernelspec": {
   "display_name": "Python 3",
   "language": "python",
   "name": "python3"
  },
  "language_info": {
   "codemirror_mode": {
    "name": "ipython",
    "version": 3
   },
   "file_extension": ".py",
   "mimetype": "text/x-python",
   "name": "python",
   "nbconvert_exporter": "python",
   "pygments_lexer": "ipython3",
   "version": "3.8.8"
  }
 },
 "nbformat": 4,
 "nbformat_minor": 5
}
