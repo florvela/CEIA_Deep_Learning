{
  "nbformat": 4,
  "nbformat_minor": 0,
  "metadata": {
    "colab": {
      "name": "RNN_teoria.ipynb",
      "provenance": []
    },
    "kernelspec": {
      "name": "python3",
      "display_name": "Python 3"
    },
    "language_info": {
      "name": "python"
    }
  },
  "cells": [
    {
      "cell_type": "markdown",
      "source": [
        "## Link a documentacion RNN de Pytorch, librerias y funciones a utilizar."
      ],
      "metadata": {
        "id": "x7qq56pInI3S"
      }
    },
    {
      "cell_type": "markdown",
      "source": [
        "https://pytorch.org/docs/stable/generated/torch.nn.RNN.html#torch.nn.RNN"
      ],
      "metadata": {
        "id": "LicepBoojbfX"
      }
    },
    {
      "cell_type": "code",
      "execution_count": 2,
      "metadata": {
        "id": "ZA_Tw-UvUbl2"
      },
      "outputs": [],
      "source": [
        "# Librerias\n",
        "import numpy as np\n",
        "import torch\n"
      ]
    },
    {
      "cell_type": "code",
      "source": [
        "class SimpleRNN(torch.nn.Module):\n",
        "  def __init__(self, input_size=1, hidden_size=1, num_layers=1):\n",
        "    super().__init__()\n",
        "    self.rnn = torch.nn.RNN(input_size, hidden_size, num_layers, batch_first=True)\n",
        "\n",
        "  def forward(self, x):\n",
        "    x, h = self.rnn(x) \n",
        "    return x, h\n"
      ],
      "metadata": {
        "id": "usXhWlN9UjCY"
      },
      "execution_count": 3,
      "outputs": []
    },
    {
      "cell_type": "code",
      "source": [
        "class SimpleRNN_2(torch.nn.Module):\n",
        "  def __init__(self, input_size=1, hidden_size=1, num_layers=1, out_fc=2, hidden_size2=3):\n",
        "    super().__init__()\n",
        "    self.rnn1 = torch.nn.RNN(input_size, hidden_size, num_layers, batch_first=True)\n",
        "    self.fc = torch.nn.Linear(hidden_size, out_fc )\n",
        "    self.rnn2 = torch.nn.RNN(out_fc, hidden_size2, num_layers, batch_first=True)\n",
        "  def forward(self, x):\n",
        "    x, h = self.rnn1(x)\n",
        "    o_fc = self.fc(h) # le paso el hidden state final de la rrn1\n",
        "                      # esto será de largo igual al numero de hidden\n",
        "                      # tiene sentido pasar el hidden final por que tendrá\n",
        "                      # la información de la secuencia en entrada ya \"almacenada\"\n",
        "    x2, h2 = self.rnn2(o_fc)\n",
        "    return x2, h2\n"
      ],
      "metadata": {
        "id": "2B3MSdPY1Ujv"
      },
      "execution_count": 4,
      "outputs": []
    },
    {
      "cell_type": "code",
      "source": [
        "def imp_param(model):\n",
        "  print('-'*84)\n",
        "  print('PARAMETROS DEL MODELO')\n",
        "  print('-'*84)\n",
        "  for name, param in model.named_parameters():\n",
        "    if param.requires_grad: \n",
        "      print('Nombre del parámetro: ')\n",
        "      print(name)\n",
        "      print('Tamaño del parámetro: ')\n",
        "      print(param.data.shape)\n",
        "      print()\n"
      ],
      "metadata": {
        "id": "PEWsdE8lcPoc"
      },
      "execution_count": 5,
      "outputs": []
    },
    {
      "cell_type": "code",
      "source": [
        "def teoria(model, largo_entrada = 3):\n",
        "  print('-'*84)\n",
        "  print('MODELO')\n",
        "  print('-'*84)\n",
        "  print(model)\n",
        "  imp_param(model)\n",
        "\n",
        "  # Generamos una entrada aleatoria para ver como responde la red\n",
        "  # el tamaño de la entrada esa acorde a los tamaños que cargamos antes\n",
        "  entrada = torch.rand(largo_entrada, input_size)\n",
        "  print('-'*84)\n",
        "  print('ENTRADA')\n",
        "  print('-'*84)\n",
        "  print('entrada shape: ', entrada.shape)\n",
        "  print(entrada)\n",
        "  # le agrego la dimension del batch:\n",
        "  entrada = entrada[None, :]\n",
        "  print()\n",
        "  print('entrada con nuevas dimensiones [batch, Length, nr_features] ')\n",
        "  print(entrada.shape)\n",
        "\n",
        "  # Pasamos la entrada a la red\n",
        "  o, h = model(entrada)\n",
        "  print('-'*84)\n",
        "  print('SALIDA')\n",
        "  print('-'*84)\n",
        "  print('salida de la red (largo igual al input): ', o.shape)\n",
        "  print(o)\n",
        "  print()\n",
        "  print('hidden red (solo ultimo hidden): ', h.shape)\n",
        "  print(h)\n",
        "\n",
        "\n"
      ],
      "metadata": {
        "id": "QWPRcKHCe4BG"
      },
      "execution_count": 6,
      "outputs": []
    },
    {
      "cell_type": "markdown",
      "source": [
        "## RNN compuesta por 1 RNN  + 1 FC + 1 RNN\n",
        "usar clase SimpleRNN_2"
      ],
      "metadata": {
        "id": "yE3ZsAK4natK"
      }
    },
    {
      "cell_type": "code",
      "source": [
        "input_size= 3 # 3 features\n",
        "hidden_size= 5 # 5 hidden de la 1ra RNN\n",
        "num_layers= 1 # num layer 1er RNN. OJO! si aumentan las layer, la salida h\n",
        "              # últumo hidden, devuelve el último hidden de cada capa!\n",
        "\n",
        "out_fc = 2 # número de salidas de la fc\n",
        "hidden_size2 = 3 # numero de hidden de la 2da RNN...\n",
        "                # el número de input (features) de la RNN2 es de 1 la salida\n",
        "                # de la fc es de prof y largo = out_fc\n",
        "\n",
        "largo_entrada = 7\n",
        "\n",
        "model = SimpleRNN_2(input_size, hidden_size, num_layers, out_fc, hidden_size2)\n",
        "teoria(model, largo_entrada)"
      ],
      "metadata": {
        "colab": {
          "base_uri": "https://localhost:8080/"
        },
        "id": "BRJwQWTinlAH",
        "outputId": "b0e671d5-9707-48c8-b057-22bf9708e164"
      },
      "execution_count": 8,
      "outputs": [
        {
          "output_type": "stream",
          "name": "stdout",
          "text": [
            "------------------------------------------------------------------------------------\n",
            "MODELO\n",
            "------------------------------------------------------------------------------------\n",
            "SimpleRNN_2(\n",
            "  (rnn1): RNN(3, 5, batch_first=True)\n",
            "  (fc): Linear(in_features=5, out_features=2, bias=True)\n",
            "  (rnn2): RNN(2, 3, batch_first=True)\n",
            ")\n",
            "------------------------------------------------------------------------------------\n",
            "PARAMETROS DEL MODELO\n",
            "------------------------------------------------------------------------------------\n",
            "Nombre del parámetro: \n",
            "rnn1.weight_ih_l0\n",
            "Tamaño del parámetro: \n",
            "torch.Size([5, 3])\n",
            "\n",
            "Nombre del parámetro: \n",
            "rnn1.weight_hh_l0\n",
            "Tamaño del parámetro: \n",
            "torch.Size([5, 5])\n",
            "\n",
            "Nombre del parámetro: \n",
            "rnn1.bias_ih_l0\n",
            "Tamaño del parámetro: \n",
            "torch.Size([5])\n",
            "\n",
            "Nombre del parámetro: \n",
            "rnn1.bias_hh_l0\n",
            "Tamaño del parámetro: \n",
            "torch.Size([5])\n",
            "\n",
            "Nombre del parámetro: \n",
            "fc.weight\n",
            "Tamaño del parámetro: \n",
            "torch.Size([2, 5])\n",
            "\n",
            "Nombre del parámetro: \n",
            "fc.bias\n",
            "Tamaño del parámetro: \n",
            "torch.Size([2])\n",
            "\n",
            "Nombre del parámetro: \n",
            "rnn2.weight_ih_l0\n",
            "Tamaño del parámetro: \n",
            "torch.Size([3, 2])\n",
            "\n",
            "Nombre del parámetro: \n",
            "rnn2.weight_hh_l0\n",
            "Tamaño del parámetro: \n",
            "torch.Size([3, 3])\n",
            "\n",
            "Nombre del parámetro: \n",
            "rnn2.bias_ih_l0\n",
            "Tamaño del parámetro: \n",
            "torch.Size([3])\n",
            "\n",
            "Nombre del parámetro: \n",
            "rnn2.bias_hh_l0\n",
            "Tamaño del parámetro: \n",
            "torch.Size([3])\n",
            "\n",
            "------------------------------------------------------------------------------------\n",
            "ENTRADA\n",
            "------------------------------------------------------------------------------------\n",
            "entrada shape:  torch.Size([7, 3])\n",
            "tensor([[0.1313, 0.0794, 0.8637],\n",
            "        [0.8206, 0.6125, 0.8199],\n",
            "        [0.2690, 0.5637, 0.7727],\n",
            "        [0.5430, 0.4946, 0.1378],\n",
            "        [0.0139, 0.9654, 0.3462],\n",
            "        [0.2321, 0.2349, 0.9420],\n",
            "        [0.7318, 0.2812, 0.3973]])\n",
            "\n",
            "entrada con nuevas dimensiones [batch, Length, nr_features] \n",
            "torch.Size([1, 7, 3])\n",
            "------------------------------------------------------------------------------------\n",
            "SALIDA\n",
            "------------------------------------------------------------------------------------\n",
            "salida de la red (largo igual al input):  torch.Size([1, 1, 3])\n",
            "tensor([[[ 0.4296, -0.2339,  0.0297]]], grad_fn=<TransposeBackward1>)\n",
            "\n",
            "hidden red (solo ultimo hidden):  torch.Size([1, 1, 3])\n",
            "tensor([[[ 0.4296, -0.2339,  0.0297]]], grad_fn=<StackBackward0>)\n"
          ]
        }
      ]
    },
    {
      "cell_type": "markdown",
      "source": [
        "### RNN simple"
      ],
      "metadata": {
        "id": "Hh7gbMkEfZgP"
      }
    },
    {
      "cell_type": "code",
      "source": [
        "input_size= 1\n",
        "hidden_size= 1\n",
        "num_layers= 1\n",
        "largo_entrada = 7\n",
        "\n",
        "model = SimpleRNN(input_size, hidden_size, num_layers)\n",
        "teoria(model, largo_entrada)"
      ],
      "metadata": {
        "id": "Sg-kGODFgeEO",
        "colab": {
          "base_uri": "https://localhost:8080/"
        },
        "outputId": "f3ae6e5c-5140-4dc1-84d1-330f5cea8e99"
      },
      "execution_count": 24,
      "outputs": [
        {
          "output_type": "stream",
          "name": "stdout",
          "text": [
            "------------------------------------------------------------------------------------\n",
            "MODELO\n",
            "------------------------------------------------------------------------------------\n",
            "SimpleRNN_2(\n",
            "  (rnn1): RNN(1, 1, batch_first=True)\n",
            "  (fc): Linear(in_features=1, out_features=2, bias=True)\n",
            "  (rnn2): RNN(2, 3, batch_first=True)\n",
            ")\n",
            "------------------------------------------------------------------------------------\n",
            "PARAMETROS DEL MODELO\n",
            "------------------------------------------------------------------------------------\n",
            "Nombre del parámetro: \n",
            "rnn1.weight_ih_l0\n",
            "Tamaño del parámetro: \n",
            "torch.Size([1, 1])\n",
            "\n",
            "Nombre del parámetro: \n",
            "rnn1.weight_hh_l0\n",
            "Tamaño del parámetro: \n",
            "torch.Size([1, 1])\n",
            "\n",
            "Nombre del parámetro: \n",
            "rnn1.bias_ih_l0\n",
            "Tamaño del parámetro: \n",
            "torch.Size([1])\n",
            "\n",
            "Nombre del parámetro: \n",
            "rnn1.bias_hh_l0\n",
            "Tamaño del parámetro: \n",
            "torch.Size([1])\n",
            "\n",
            "Nombre del parámetro: \n",
            "fc.weight\n",
            "Tamaño del parámetro: \n",
            "torch.Size([2, 1])\n",
            "\n",
            "Nombre del parámetro: \n",
            "fc.bias\n",
            "Tamaño del parámetro: \n",
            "torch.Size([2])\n",
            "\n",
            "Nombre del parámetro: \n",
            "rnn2.weight_ih_l0\n",
            "Tamaño del parámetro: \n",
            "torch.Size([3, 2])\n",
            "\n",
            "Nombre del parámetro: \n",
            "rnn2.weight_hh_l0\n",
            "Tamaño del parámetro: \n",
            "torch.Size([3, 3])\n",
            "\n",
            "Nombre del parámetro: \n",
            "rnn2.bias_ih_l0\n",
            "Tamaño del parámetro: \n",
            "torch.Size([3])\n",
            "\n",
            "Nombre del parámetro: \n",
            "rnn2.bias_hh_l0\n",
            "Tamaño del parámetro: \n",
            "torch.Size([3])\n",
            "\n",
            "------------------------------------------------------------------------------------\n",
            "ENTRADA\n",
            "------------------------------------------------------------------------------------\n",
            "entrada shape:  torch.Size([7, 1])\n",
            "tensor([[0.5096],\n",
            "        [0.9784],\n",
            "        [0.9375],\n",
            "        [0.6090],\n",
            "        [0.6220],\n",
            "        [0.6373],\n",
            "        [0.7696]])\n",
            "\n",
            "entrada con nuevas dimensiones [batch, Length, nr_features] \n",
            "torch.Size([1, 7, 1])\n",
            "------------------------------------------------------------------------------------\n",
            "SALIDA\n",
            "------------------------------------------------------------------------------------\n",
            "salida de la red (largo igual al input):  torch.Size([1, 1, 3])\n",
            "tensor([[[ 0.4729, -0.5802,  0.9274]]], grad_fn=<TransposeBackward1>)\n",
            "\n",
            "hidden red (solo ultimo hidden):  torch.Size([1, 1, 3])\n",
            "tensor([[[ 0.4729, -0.5802,  0.9274]]], grad_fn=<StackBackward0>)\n"
          ]
        }
      ]
    },
    {
      "cell_type": "markdown",
      "source": [
        "### RNN con hidden"
      ],
      "metadata": {
        "id": "bK740Reuchot"
      }
    },
    {
      "cell_type": "code",
      "source": [
        "input_size= 1\n",
        "hidden_size= 3\n",
        "num_layers= 1\n",
        "largo_entrada = 10\n",
        "\n",
        "model = SimpleRNN(input_size, hidden_size, num_layers)\n",
        "teoria(model, largo_entrada)"
      ],
      "metadata": {
        "id": "s631JZLAaYxt"
      },
      "execution_count": null,
      "outputs": []
    },
    {
      "cell_type": "markdown",
      "source": [
        "### RNN con 2 layers"
      ],
      "metadata": {
        "id": "wZs3wrXFgmNj"
      }
    },
    {
      "cell_type": "code",
      "source": [
        "input_size=\n",
        "hidden_size=\n",
        "num_layers=\n",
        "largo_entrada = \n",
        "\n",
        "model = SimpleRNN(input_size, hidden_size, num_layers)\n",
        "teoria(model, largo_entrada)"
      ],
      "metadata": {
        "id": "3_gNjjocgmNo"
      },
      "execution_count": null,
      "outputs": []
    },
    {
      "cell_type": "markdown",
      "source": [
        "### RNN con input mutivariable"
      ],
      "metadata": {
        "id": "4Na94A7Qhoit"
      }
    },
    {
      "cell_type": "code",
      "source": [
        "input_size= 3\n",
        "hidden_size= 5\n",
        "num_layers= 7\n",
        "largo_entrada = 11\n",
        "\n",
        "model = SimpleRNN(input_size, hidden_size, num_layers)\n",
        "teoria(model, largo_entrada)"
      ],
      "metadata": {
        "id": "dvl8MJfKhoiz",
        "colab": {
          "base_uri": "https://localhost:8080/"
        },
        "outputId": "064b28cb-b189-4fe6-c124-6878591a85b4"
      },
      "execution_count": 9,
      "outputs": [
        {
          "output_type": "stream",
          "name": "stdout",
          "text": [
            "------------------------------------------------------------------------------------\n",
            "MODELO\n",
            "------------------------------------------------------------------------------------\n",
            "SimpleRNN(\n",
            "  (rnn): RNN(3, 1, batch_first=True)\n",
            ")\n",
            "------------------------------------------------------------------------------------\n",
            "PARAMETROS DEL MODELO\n",
            "------------------------------------------------------------------------------------\n",
            "Nombre del parámetro: \n",
            "rnn.weight_ih_l0\n",
            "Tamaño del parámetro: \n",
            "torch.Size([1, 3])\n",
            "\n",
            "Nombre del parámetro: \n",
            "rnn.weight_hh_l0\n",
            "Tamaño del parámetro: \n",
            "torch.Size([1, 1])\n",
            "\n",
            "Nombre del parámetro: \n",
            "rnn.bias_ih_l0\n",
            "Tamaño del parámetro: \n",
            "torch.Size([1])\n",
            "\n",
            "Nombre del parámetro: \n",
            "rnn.bias_hh_l0\n",
            "Tamaño del parámetro: \n",
            "torch.Size([1])\n",
            "\n",
            "------------------------------------------------------------------------------------\n",
            "ENTRADA\n",
            "------------------------------------------------------------------------------------\n",
            "entrada shape:  torch.Size([10, 3])\n",
            "tensor([[8.3468e-01, 4.1095e-01, 3.2717e-01],\n",
            "        [8.5231e-01, 1.8539e-02, 8.4403e-01],\n",
            "        [8.7108e-01, 4.7049e-01, 3.1649e-01],\n",
            "        [3.9147e-01, 9.3625e-01, 6.3629e-01],\n",
            "        [3.6789e-01, 7.1985e-01, 8.7077e-01],\n",
            "        [7.5409e-02, 8.2395e-01, 7.6413e-01],\n",
            "        [9.2813e-01, 4.3238e-01, 4.5247e-01],\n",
            "        [8.9358e-01, 1.9558e-01, 7.8225e-03],\n",
            "        [4.0549e-01, 1.6511e-01, 6.6292e-04],\n",
            "        [4.9354e-01, 8.2931e-01, 8.5070e-01]])\n",
            "\n",
            "entrada con nuevas dimensiones [batch, Length, nr_features] \n",
            "torch.Size([1, 10, 3])\n",
            "------------------------------------------------------------------------------------\n",
            "SALIDA\n",
            "------------------------------------------------------------------------------------\n",
            "salida de la red (largo igual al input):  torch.Size([1, 10, 1])\n",
            "tensor([[[0.8808],\n",
            "         [0.9047],\n",
            "         [0.9437],\n",
            "         [0.6935],\n",
            "         [0.5566],\n",
            "         [0.3818],\n",
            "         [0.9006],\n",
            "         [0.9781],\n",
            "         [0.9610],\n",
            "         [0.6575]]], grad_fn=<TransposeBackward1>)\n",
            "\n",
            "hidden red (solo ultimo hidden):  torch.Size([1, 1, 1])\n",
            "tensor([[[0.6575]]], grad_fn=<StackBackward0>)\n"
          ]
        }
      ]
    },
    {
      "cell_type": "code",
      "source": [
        ""
      ],
      "metadata": {
        "id": "F7fxlhcjhoi6"
      },
      "execution_count": null,
      "outputs": []
    },
    {
      "cell_type": "markdown",
      "source": [
        "### RNN con varias cosas"
      ],
      "metadata": {
        "id": "mhIvgL2ch24Q"
      }
    },
    {
      "cell_type": "code",
      "source": [
        "input_size=\n",
        "hidden_size=\n",
        "num_layers=\n",
        "largo_entrada = \n",
        "\n",
        "model = SimpleRNN(input_size, hidden_size, num_layers)\n",
        "teoria(model, largo_entrada)"
      ],
      "metadata": {
        "id": "8IpqefqHh24X"
      },
      "execution_count": null,
      "outputs": []
    },
    {
      "cell_type": "markdown",
      "source": [
        "### EJERCICIO 1 - Realizar un ejemplo agregando un batch a la input"
      ],
      "metadata": {
        "id": "p4aJT7JTlpe8"
      }
    },
    {
      "cell_type": "code",
      "source": [
        ""
      ],
      "metadata": {
        "id": "RiWhtWzql0CX"
      },
      "execution_count": null,
      "outputs": []
    },
    {
      "cell_type": "markdown",
      "source": [
        "### EJERCICIO 2 - Implementar una RNN para clasificación de 5 clases:\n",
        "- `input size = 2`.\n",
        "- `hidden size= 40`.\n",
        "- Agregar una `fully conected` al final con `n_out = nro clases`.\n",
        "- Tomar como `input` el estado final de la rnn.\n",
        "- Agregar por último una `softmax` para leer probabilidades."
      ],
      "metadata": {
        "id": "vDlw7BlynWI6"
      }
    },
    {
      "cell_type": "code",
      "source": [
        ""
      ],
      "metadata": {
        "id": "PybasXHKmKrO"
      },
      "execution_count": null,
      "outputs": []
    }
  ]
}