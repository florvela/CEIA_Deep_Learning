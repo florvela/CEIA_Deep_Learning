{
  "nbformat": 4,
  "nbformat_minor": 0,
  "metadata": {
    "colab": {
      "name": "word_embedding.ipynb",
      "provenance": [],
      "collapsed_sections": []
    },
    "kernelspec": {
      "name": "python3",
      "display_name": "Python 3"
    },
    "language_info": {
      "name": "python"
    }
  },
  "cells": [
    {
      "cell_type": "markdown",
      "source": [
        "Ejemplo de FALSE TASK para entrenar un embedding. La false task es el entrenamiento de un modelo para que cumpla una tarea la cual no es el objetivo final del programador. En este caso la false task es adividar la siguiente palabra a partir de un número dado (`CONTEXT_SIZE`) de palabras previas. El objetivo real es aprender un word_embedding de las palabras del texto a procesar."
      ],
      "metadata": {
        "id": "Etc-41KULa3W"
      }
    },
    {
      "cell_type": "code",
      "metadata": {
        "colab": {
          "base_uri": "https://localhost:8080/"
        },
        "id": "PPCKdi7GmRnm",
        "outputId": "42477b89-5760-4dcc-e88d-7002688e1a7a"
      },
      "source": [
        "# Librerias necesarias\n",
        "import torch\n",
        "import torch.nn as nn\n",
        "import torch.nn.functional as F\n",
        "import torch.optim as optim\n",
        "import itertools\n",
        "import matplotlib.pyplot as plt\n",
        "import numpy as np\n",
        "from sklearn.decomposition import PCA\n",
        "\n",
        "torch.manual_seed(1)"
      ],
      "execution_count": 5,
      "outputs": [
        {
          "output_type": "execute_result",
          "data": {
            "text/plain": [
              "<torch._C.Generator at 0x7f66633ed6f0>"
            ]
          },
          "metadata": {},
          "execution_count": 5
        }
      ]
    },
    {
      "cell_type": "code",
      "source": [
        "# defino las variables del contexto para predecir la siguiente palabra y la \n",
        "# dimension del embedding\n",
        "\n",
        "CONTEXT_SIZE = 2\n",
        "EMBEDDING_DIM = 10\n",
        "\n",
        "\n",
        "# texto a procesar\n",
        "test_sentence = \"\"\"he is a king\n",
        "     she is a queen\n",
        "     he is a man\n",
        "     she is a woman\n",
        "     the queen is a woman\n",
        "     the king is a man\n",
        "     warsaw is poland capital\n",
        "     berlin is germany capital\n",
        "     paris is france capital\"\"\".split()\n",
        "\n",
        "\n",
        "# we should tokenize the input, but we will ignore that for now\n",
        "# build a list of tuples.\n",
        "# Each tuple is ([ word_i-CONTEXT_SIZE, ..., word_i-1 ], target word)\n",
        "ngrams = [\n",
        "    (\n",
        "        [test_sentence[i - j - 1] for j in range(CONTEXT_SIZE)],\n",
        "        test_sentence[i]\n",
        "    )\n",
        "    for i in range(CONTEXT_SIZE, len(test_sentence))\n",
        "]\n",
        "\n",
        "# Print the first 3, just so you can see what they look like.\n",
        "print('algunas NGRAMS de CONTEXT y PALABRA_OBJETIVO')\n",
        "print(ngrams[:3])\n",
        "\n",
        "corpus = test_sentence\n",
        "vocab = set(itertools.chain.from_iterable(corpus))\n",
        "vocab = set(corpus)\n",
        "# Armo un diccionario de index para todo el vocabulario de mi texto a procesar.\n",
        "# Cada palabra tendrá una entrada en dicho diccionario (un número) el cual \n",
        "# cohincidirá con la primera dimensión del embedding (nro de filas).\n",
        "\n",
        "word_to_ix = {word: i for i, word in enumerate(vocab)}\n",
        "\n",
        "print('diccionario de vocabulario')\n",
        "word_to_ix"
      ],
      "metadata": {
        "colab": {
          "base_uri": "https://localhost:8080/"
        },
        "id": "9YOSJRxNMXEC",
        "outputId": "02d970cf-b02d-4fba-e19f-5aed87541c4d"
      },
      "execution_count": 9,
      "outputs": [
        {
          "output_type": "stream",
          "name": "stdout",
          "text": [
            "algunas NGRAMS de CONTEXT y PALABRA_OBJETIVO\n",
            "[(['is', 'he'], 'a'), (['a', 'is'], 'king'), (['king', 'a'], 'she')]\n",
            "diccionario de vocabulario\n"
          ]
        },
        {
          "output_type": "execute_result",
          "data": {
            "text/plain": [
              "{'a': 13,\n",
              " 'berlin': 7,\n",
              " 'capital': 14,\n",
              " 'france': 10,\n",
              " 'germany': 11,\n",
              " 'he': 12,\n",
              " 'is': 9,\n",
              " 'king': 0,\n",
              " 'man': 4,\n",
              " 'paris': 6,\n",
              " 'poland': 1,\n",
              " 'queen': 3,\n",
              " 'she': 8,\n",
              " 'the': 15,\n",
              " 'warsaw': 5,\n",
              " 'woman': 2}"
            ]
          },
          "metadata": {},
          "execution_count": 9
        }
      ]
    },
    {
      "cell_type": "code",
      "metadata": {
        "colab": {
          "base_uri": "https://localhost:8080/"
        },
        "id": "67z7lL_4may_",
        "outputId": "1134844e-7493-4f81-82ed-9821785b97ba"
      },
      "source": [
        "# Creamos la clase de la NN... en este caso está el embedding seguido de unas\n",
        "# FC.\n",
        "# Observar que el autor de este código, colocó las funciones de no linealidad\n",
        "# solo en el forward.\n",
        "# la función softmax final es por que queremos adivinar la proxima palabra\n",
        "# y lo queremos hacer como una probabilidad.\n",
        "\n",
        "class NGramLanguageModeler(nn.Module):\n",
        "\n",
        "    def __init__(self, vocab_size, embedding_dim, context_size):\n",
        "        super(NGramLanguageModeler, self).__init__()\n",
        "        self.embeddings = nn.Embedding(vocab_size, embedding_dim)\n",
        "        self.linear1 = nn.Linear(context_size * embedding_dim, 256)\n",
        "        self.linear2 = nn.Linear(256, vocab_size)\n",
        "\n",
        "    def forward(self, inputs):\n",
        "        embeds = self.embeddings(inputs).view((1, -1))\n",
        "        out = F.relu(self.linear1(embeds))\n",
        "        out = self.linear2(out)\n",
        "        log_probs = F.log_softmax(out, dim=1)\n",
        "        return log_probs\n",
        "\n",
        "\n",
        "losses = []\n",
        "loss_function = nn.NLLLoss()\n",
        "model = NGramLanguageModeler(len(vocab), EMBEDDING_DIM, CONTEXT_SIZE)\n",
        "optimizer = optim.SGD(model.parameters(), lr=0.01)\n",
        "\n",
        "for epoch in range(100):\n",
        "    total_loss = 0\n",
        "    for context, target in ngrams:\n",
        "\n",
        "        # Step 1. Prepare the inputs to be passed to the model (i.e, turn the words\n",
        "        # into integer indices and wrap them in tensors)\n",
        "        context_idxs = torch.tensor([word_to_ix[w] for w in context], dtype=torch.long)\n",
        "\n",
        "        # Step 2. Recall that torch *accumulates* gradients. Before passing in a\n",
        "        # new instance, you need to zero out the gradients from the old\n",
        "        # instance\n",
        "        model.zero_grad()\n",
        "\n",
        "        # Step 3. Run the forward pass, getting log probabilities over next\n",
        "        # words\n",
        "        log_probs = model(context_idxs)\n",
        "\n",
        "        # Step 4. Compute your loss function. (Again, Torch wants the target\n",
        "        # word wrapped in a tensor)\n",
        "        loss = loss_function(log_probs, torch.tensor([word_to_ix[target]], dtype=torch.long))\n",
        "\n",
        "        # Step 5. Do the backward pass and update the gradient\n",
        "        loss.backward()\n",
        "        optimizer.step()\n",
        "\n",
        "        # Get the Python number from a 1-element Tensor by calling tensor.item()\n",
        "        total_loss += loss.item()\n",
        "    losses.append(total_loss)\n",
        "print(losses)  # The loss decreased every iteration over the training data!\n",
        "\n",
        "# To get the embedding of a particular word, e.g. \"beauty\"\n",
        "# print(model.embeddings.weight[word_to_ix[\"beauty\"]])"
      ],
      "execution_count": 10,
      "outputs": [
        {
          "output_type": "stream",
          "name": "stdout",
          "text": [
            "[97.16304075717926, 75.3261244893074, 62.45232132077217, 53.71491304039955, 47.19042633473873, 42.09229773283005, 37.98500369489193, 34.63394870609045, 31.882005587220192, 29.60279005765915, 27.706417739391327, 26.119738705456257, 24.78516625240445, 23.65591052174568, 22.69996584765613, 21.87374405004084, 21.164122745394707, 20.546537812799215, 20.006135914474726, 19.53556683473289, 19.116644201800227, 18.743569439277053, 18.41226067394018, 18.114021506160498, 17.841647213324904, 17.599038903601468, 17.37968224659562, 17.17631197348237, 16.98983656335622, 16.818014594726264, 16.659707417711616, 16.51306354533881, 16.37857791548595, 16.249547439161688, 16.132607859093696, 16.022631756030023, 15.920433284249157, 15.82332059321925, 15.730709817726165, 15.642428658902645, 15.561596229672432, 15.48422972066328, 15.414291160181165, 15.342267683707178, 15.277069587726146, 15.21020197076723, 15.150515463901684, 15.092380250338465, 15.036910814233124, 14.981456501409411, 14.928930566413328, 14.879393564304337, 14.833022087113932, 14.788162661949173, 14.741455381503329, 14.697598083177581, 14.655076743336394, 14.616081272717565, 14.575905265286565, 14.538554937345907, 14.502031843177974, 14.467937125824392, 14.435814764350653, 14.397440739208832, 14.365874927025288, 14.337772162631154, 14.30406982905697, 14.274947543046437, 14.244802972185425, 14.215272704139352, 14.185542973107658, 14.159132897271775, 14.131850589066744, 14.107826005201787, 14.07991715380922, 14.055377067415975, 14.030107845552266, 14.005657583242282, 13.984268948435783, 13.959531379048713, 13.936714753275737, 13.915056446101516, 13.895161998341791, 13.87018030474428, 13.852359851123765, 13.83097117615398, 13.809467404033057, 13.789911786210723, 13.76942430716008, 13.751681622001342, 13.73207520332653, 13.715429849456996, 13.696796238189563, 13.677121664281003, 13.659412439214066, 13.642586326925084, 13.62442914408166, 13.606958209304139, 13.593814359221142, 13.573614444525447]\n"
          ]
        }
      ]
    },
    {
      "cell_type": "code",
      "metadata": {
        "colab": {
          "base_uri": "https://localhost:8080/"
        },
        "id": "UA03M4QDmdOa",
        "outputId": "c8bfa3f4-ca56-4a9b-b311-419d45112f38"
      },
      "source": [
        "emb_vocab=torch.empty((1,EMBEDDING_DIM))\n",
        "model.eval\n",
        "for wordi in vocab:\n",
        "  #print(wordi)\n",
        "  #aver = make_context_vector([wordi], word_to_ix)\n",
        "  embedi = model.embeddings.weight[word_to_ix[wordi]]\n",
        "  emb_vocab = torch.cat((emb_vocab, embedi.unsqueeze(0)),0)\n",
        "print('Embedding')\n",
        "print('dimensiones: [vocab_size x EMBEDDING_DIM]')\n",
        "print(emb_vocab.shape)"
      ],
      "execution_count": 16,
      "outputs": [
        {
          "output_type": "stream",
          "name": "stdout",
          "text": [
            "Embedding\n",
            "dimensiones: [vocab_size x EMBEDDING_DIM]\n",
            "torch.Size([17, 10])\n"
          ]
        }
      ]
    },
    {
      "cell_type": "code",
      "metadata": {
        "colab": {
          "base_uri": "https://localhost:8080/"
        },
        "id": "0X3PGtYaqAH-",
        "outputId": "6a73bd81-0674-426c-e6d0-cc973529bfa9"
      },
      "source": [
        "print('largo del vocabulario: ',len(vocab))\n",
        "print(type(emb_vocab))\n",
        "emb_vocab = emb_vocab[1:]\n",
        "print('shape del embedding vocab: ', emb_vocab.shape)\n"
      ],
      "execution_count": 17,
      "outputs": [
        {
          "output_type": "stream",
          "name": "stdout",
          "text": [
            "largo del vocabulario:  16\n",
            "<class 'torch.Tensor'>\n",
            "shape del embedding vocab:  torch.Size([16, 10])\n"
          ]
        }
      ]
    },
    {
      "cell_type": "code",
      "metadata": {
        "colab": {
          "base_uri": "https://localhost:8080/"
        },
        "id": "P-Wi0LEbqhYa",
        "outputId": "a100d749-af25-424d-cc5f-38af463b2cb3"
      },
      "source": [
        "# reducimos el embedding a 3D para poder plotearlo\n",
        "completo = emb_vocab.detach().numpy()\n",
        "print('tamaño completo: ', completo.shape)\n",
        "pca = PCA(n_components=3)\n",
        "reducido = pca.fit(completo).transform(completo)\n",
        "print('tamaño reducido: ', reducido.shape)\n",
        "x = reducido[:,0]\n",
        "y = reducido[:,1]\n",
        "z = reducido[:,2]"
      ],
      "execution_count": 19,
      "outputs": [
        {
          "output_type": "stream",
          "name": "stdout",
          "text": [
            "tamaño completo:  (16, 10)\n",
            "tamaño reducido:  (16, 3)\n"
          ]
        }
      ]
    },
    {
      "cell_type": "code",
      "metadata": {
        "colab": {
          "base_uri": "https://localhost:8080/",
          "height": 700
        },
        "id": "vIdYHVXHqw0M",
        "outputId": "26992f31-36f3-4cb7-f8b2-cc91ceee68f8"
      },
      "source": [
        "fig, ax = plt.subplots(figsize=(20,12))\n",
        "ax.scatter(x, y)\n",
        "plt.grid()\n",
        "#ax.scatter(completo[:,0], completo[:,1])\n",
        "# Show the boundary between the regions:\n",
        "for i, txt in enumerate(vocab):\n",
        "    ax.annotate(txt, (x[i], y[i]))\n",
        "#plt.xlim((-20,10))\n",
        "plt.show()\n"
      ],
      "execution_count": 20,
      "outputs": [
        {
          "output_type": "display_data",
          "data": {
            "text/plain": [
              "<Figure size 1440x864 with 1 Axes>"
            ],
            "image/png": "[encoded data removed]"
          },
          "metadata": {
            "needs_background": "light"
          }
        }
      ]
    }
  ]
}